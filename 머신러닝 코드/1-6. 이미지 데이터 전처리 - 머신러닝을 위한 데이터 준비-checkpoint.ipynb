{
 "cells": [
  {
   "cell_type": "code",
   "execution_count": 1,
   "id": "63ac8fab",
   "metadata": {},
   "outputs": [
    {
     "name": "stdout",
     "output_type": "stream",
     "text": [
      "Defaulting to user installation because normal site-packages is not writeable\n",
      "Requirement already satisfied: opencv-python in c:\\users\\user\\appdata\\roaming\\python\\python39\\site-packages (4.7.0.72)\n",
      "Requirement already satisfied: numpy>=1.19.3 in c:\\programdata\\anaconda3\\lib\\site-packages (from opencv-python) (1.21.5)\n"
     ]
    }
   ],
   "source": [
    "!pip install opencv-python"
   ]
  },
  {
   "cell_type": "code",
   "execution_count": 19,
   "id": "4998eb4d",
   "metadata": {},
   "outputs": [
    {
     "name": "stdout",
     "output_type": "stream",
     "text": [
      "ants_1\n",
      "ants_2\n",
      "1092977343_cb42b38d62.jpg\n",
      "1232245714_f862fbe385.jpg\n",
      "1297972485_33266a18d9.jpg\n",
      "144098310_a4176fd54d.jpg\n",
      "149973093_da3c446268.jpg\n",
      "150013791_969d9a968b.jpg\n",
      "1519368889_4270261ee3.jpg\n",
      "152789693_220b003452.jpg\n",
      "16838648_415acd9e3f.jpg\n",
      "1799729694_0c40101071.jpg\n",
      "1807583459_4fe92b3133.jpg\n",
      "181171681_c5a1a82ded.jpg\n",
      "196658222_3fffd79c67.jpg\n",
      "203868383_0fcbb48278.jpg\n",
      "205835650_e6f2614bee.jpg\n",
      "2103637821_8d26ee6b90.jpg\n",
      "2104135106_a65eede1de.jpg\n",
      "21399619_3e61e5bb6f.jpg\n",
      "215512424_687e1e0821.jpg\n",
      "2173503984_9c6aaaa7e2.jpg\n",
      "220376539_20567395d8.jpg\n",
      "2321144482_f3785ba7b2.jpg\n",
      "2364597044_3c3e3fc391.jpg\n",
      "2415414155_1916f03b42.jpg\n",
      "2438480600_40a1249879.jpg\n",
      "2445215254_51698ff797.jpg\n",
      "2477324698_3d4b1b1cab.jpg\n",
      "2477349551_e75c97cf4d.jpg\n",
      "2486746709_c43cec0e42.jpg\n",
      "2495722465_879acf9d85.jpg\n",
      "2501530886_e20952b97d.jpg\n",
      "2525379273_dcb26a516d.jpg\n",
      "2551813042_8a070aeb2b.jpg\n",
      "2610833167_79bf0bcae5.jpg\n",
      "2617161745_fa3ebe85b4.jpg\n",
      "2638074627_6b3ae746a0.jpg\n",
      "2645107662_b73a8595cc.jpg\n",
      "266644509_d30bb16a1b.jpg\n",
      "2670536155_c170f49cd0.jpg\n",
      "2704348794_eb5d5178c2.jpg\n",
      "2707440199_cd170bd512.jpg\n",
      "2709775832_85b4b50a57.jpg\n",
      "2717418782_bd83307d9f.jpg\n",
      "2728759455_ce9bb8cd7a.jpg\n",
      "2751836205_6f7b5eff30.jpg\n",
      "2765347790_da6cf6cb40.jpg\n",
      "2781170484_5d61835d63.jpg\n",
      "2782079948_8d4e94a826.jpg\n",
      "2792000093_e8ae0718cf.jpg\n",
      "2801728106_833798c909.jpg\n",
      "2809496124_5f25b5946a.jpg\n",
      "2822388965_f6dca2a275.jpg\n",
      "29494643_e3410f0d37.jpg\n",
      "296565463_d07a7bed96.jpg\n",
      "3030189811_01d095b793.jpg\n",
      "3044402684_3853071a87.jpg\n",
      "3079610310_ac2d0ae7bc.jpg\n",
      "350436573_41f4ecb6c8.jpg\n",
      "359928878_b3b418c728.jpg\n",
      "372228424_16da1f8884.jpg\n",
      "416144384_961c326481.jpg\n",
      "452462695_40a4e5b559.jpg\n",
      "465133211_80e0c27f60.jpg\n",
      "469333327_358ba8fe8a.jpg\n",
      "472288710_2abee16fa0.jpg\n",
      "473618094_8ffdcab215.jpg\n",
      "507288830_f46e8d4cb2.jpg\n",
      "509247772_2db2d01374.jpg\n",
      "522104315_5d3cb2758e.jpg\n",
      "540976476_844950623f.jpg\n",
      "57459255_752774f1b2.jpg\n",
      "576452297_897023f002.jpg\n",
      "586041248_3032e277a9.jpg\n",
      "586474709_ae436da045.jpg\n",
      "65038344_52a45d090d.jpg\n",
      "760526046_547e8b381f.jpg\n",
      "760568592_45a52c847f.jpg\n",
      "774440991_63a4aa0cbe.jpg\n",
      "92663402_37f379e57a.jpg\n",
      "936182217_c4caa5222d.jpg\n",
      "969455125_58c797ef17.jpg\n",
      "abeja.jpg\n"
     ]
    }
   ],
   "source": [
    "import os\n",
    "import cv2\n",
    "import numpy as np\n",
    "\n",
    "dirs = ['ants', 'bees']\n",
    "pixels = []\n",
    "labels = []\n",
    "\n",
    "for i, d in enumerate(dirs):\n",
    "    files = os.listdir('./data/' + d)\n",
    "    for f in files:\n",
    "        if f == \"ants_2\":\n",
    "            img = cv2.imread(\"./data/\" + d + \"/\" + f, 0)\n",
    "            img = cv2.resize(img, (128, 128))\n",
    "            img = np.array(img).flatten().tolist()\n",
    "            pixels.append(img)        \n",
    "            labels.append(i)\n",
    "            \n",
    "        \n"
   ]
  },
  {
   "cell_type": "code",
   "execution_count": null,
   "id": "c6efa2be",
   "metadata": {},
   "outputs": [],
   "source": []
  }
 ],
 "metadata": {
  "kernelspec": {
   "display_name": "Python 3 (ipykernel)",
   "language": "python",
   "name": "python3"
  },
  "language_info": {
   "codemirror_mode": {
    "name": "ipython",
    "version": 3
   },
   "file_extension": ".py",
   "mimetype": "text/x-python",
   "name": "python",
   "nbconvert_exporter": "python",
   "pygments_lexer": "ipython3",
   "version": "3.9.13"
  }
 },
 "nbformat": 4,
 "nbformat_minor": 5
}
