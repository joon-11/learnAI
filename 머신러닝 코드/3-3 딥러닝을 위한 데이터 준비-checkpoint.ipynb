{
 "cells": [
  {
   "cell_type": "code",
   "execution_count": 1,
   "id": "96bb7d87",
   "metadata": {},
   "outputs": [
    {
     "name": "stdout",
     "output_type": "stream",
     "text": [
      "Defaulting to user installation because normal site-packages is not writeable\n",
      "Requirement already satisfied: konlpy in c:\\users\\user\\appdata\\roaming\\python\\python39\\site-packages (0.6.0)\n",
      "Requirement already satisfied: numpy>=1.6 in c:\\users\\user\\appdata\\roaming\\python\\python39\\site-packages (from konlpy) (1.24.3)\n",
      "Requirement already satisfied: JPype1>=0.7.0 in c:\\users\\user\\appdata\\roaming\\python\\python39\\site-packages (from konlpy) (1.4.1)\n",
      "Requirement already satisfied: lxml>=4.1.0 in c:\\programdata\\anaconda3\\lib\\site-packages (from konlpy) (4.9.1)\n",
      "Requirement already satisfied: packaging in c:\\programdata\\anaconda3\\lib\\site-packages (from JPype1>=0.7.0->konlpy) (21.3)\n",
      "Requirement already satisfied: pyparsing!=3.0.5,>=2.0.2 in c:\\programdata\\anaconda3\\lib\\site-packages (from packaging->JPype1>=0.7.0->konlpy) (3.0.9)\n",
      "Note: you may need to restart the kernel to use updated packages.\n"
     ]
    }
   ],
   "source": [
    "pip install konlpy"
   ]
  },
  {
   "cell_type": "code",
   "execution_count": 6,
   "id": "02be6e65",
   "metadata": {},
   "outputs": [],
   "source": [
    "import os\n",
    "import re\n",
    "from konlpy.tag import Okt\n",
    "okt = Okt()\n",
    "\n",
    "dirs = ['it-life-hack', 'movie-enter']\n",
    "wakati = []\n",
    "label = []\n",
    "\n",
    "def spacing_okt(sentence):\n",
    "    tagged = okt.pos(sentence)\n",
    "    corrected = \"\"\n",
    "    for token in tagged:\n",
    "        if token[1] in ('Josa', 'PreEomi', 'Eomi', 'Suffix', 'Punctuation'):\n",
    "            corrected += \" \" + \"'\" + token[0] + \"'\" + \",\"\n",
    "        else:\n",
    "            corrected += \" \" + \"'\" + token[0] + \"'\" + \",\"\n",
    "    if corrected[0] == \" \":\n",
    "        corrected = corrected[1:]\n",
    "    return corrected\n",
    "\n",
    "for i, d in enumerate(dirs):\n",
    "    files = os.listdir('./' + d)\n",
    "    for file in files:\n",
    "        f = open('./' + d + '/' + file, 'r', encoding='utf-8')\n",
    "        text = f.read()\n",
    "        \n",
    "        reg_text = re.sub(r'[0-9a-zA-Z]+', '', text)\n",
    "        reg_text = re.sub(r'[:;/+\\.-]', '', reg_text)\n",
    "        reg_text = re.sub(r'[\\s\\n]', '', reg_text)\n",
    "        \n",
    "        wakati.append(spacing_okt(reg_text))\n",
    "        label.append(i)\n",
    "        f.close()"
   ]
  },
  {
   "cell_type": "code",
   "execution_count": 7,
   "id": "1e655d8d",
   "metadata": {},
   "outputs": [
    {
     "name": "stdout",
     "output_type": "stream",
     "text": [
      "400\n",
      "'구형', '에서', '금단', '의', '파워', '업', '!', '최신', '나', '소프트웨어', '를', '한꺼', '번', '에', '체크', '[', '플래시백', ']', '텔레비전', '이나', '와', '연', '계', '할수있는나', '프로세서', ',', '전환', '등', '재미있는가', '속속', '등장', '했다', '구형', '의', '금단', '이라고도', '할수있는', '파워', '업', '방법', '에서의', '최신', ',', '화제', '의', ',', '새로운', '보안', '소프트웨어', '까지', '한꺼', '번', '에', '소개', '합니다', '■', '인텔', '을', '에', '장착', '!', '구형', '은', '얼마나', '빨라질', '것', '인가', '?(', '위', ')', '인텔', '이', '최신', ''', '시리즈', ''', '를', '출시', '했다', '현재', '중', '에서도', '최고', '의', '성능', '을', '자랑', '하', '는', '이', '제품', '을', '구형', '의', '고속', '화', '를', '도모', '한다는', '점', '에서', '리뷰', '해보았다', '조금', '색다른', '리뷰', '가', '되지만', ',', '어느', '정도', '의', '효과', '가', '있는지', ',', '기', '대가', '크다', '■', '는사', '용하는가', '(', '인텔', '등', ')', '에서', '으로', '전환', '가능한', '하이브리드', ',', '하지', '만이', '와', '동시', '에도', '바뀐다', '■', '초기', '비용', ',', '업데이트', '비용', '모두', '무료', '!', '저스트', '시스템', ',', '도마뱀', '로그', '가', '인상', '적', '인', '보안', '소프트웨어', '현재', '는', '많은', '사용자', '들이에', '보안', '프로그램', '을', '도입', '하고', '있지만', ',', '그', '대부분', '은', '매년', ',', '엔', '정도', '드는', '업데이트', '비용', '과', '그', '절차', '에', '대해', '불만', '을', '가지', '고', '있다', '유료', '소프트웨어', '를', '이용', '하', '는', '사용자', '의약', '%', '는', '무료', '보안', '소프트웨어', '를', '알고있음에도', '불구', '하고', ',', '성능', '면', '에서', '뒤', '떨어지는게', '아니냐는', '불안', '에서', '도입', '을', '미루고있는', '상황', '이다', '■', '텔레비전', '의', '새로운', '활용', '방법', '을', '제안', '!', '의봄', '신상', '는와를', '연', '계', '는', '년월', '일', ',', '개인용', '데스크톱', '인', ''\"', '시리즈', '종류', '모델', '을', '월일', '부터', '판매', '한', '다', '고', '발표', '했다신', '상품', '은', '더', '강력해진', '녹화', '기능', '외', '에도', '시청', '·', '녹화', '기능', '에', '더해서', '업계', '최초', '로', '인기', '를', '연', '계', '한', ''', '트', '위트', '플러스', ''', '를', '추가', '하', '는', '등', '컴퓨터', '만의', '기능', '을', '탑재', '스마트폰', '홈', '네트워크', '대응', '도', '강화하고', ',\"', '안심', '간단', '쾌적', '\"', '한', '디지털', '엔터테인먼트', '를', '제안', '하', '여', ',', '주요', '모델', '에', '대해', '다음', '과', '같이', '기능', '강화', '를', '실시', '했다', '■', '마치', '축제', '같은', '출하', '식', '!', '렛츠', '노트', '출하', '시', '작', '월일', '에', '발매', '되는', ''', '의', '출하', '식', '이월', '일', '국내', '제', '조', '거점', '인', '고베', '공장', '에서', '열렸다', '동', '사의', '컴퓨터', '로는', '처음', '실시', '하', '는', '출하', '식', '으로', ',', '이', '제품', '에', '얼마나', '힘', '이', '들어가있는지', '알수있다', '[', '엡손', '정품', '잉크', ']', '잉크', '카트리지', '색', '세트', '엡손', '출판사', '입', '소문', '을', '본다',\n",
      "0\n"
     ]
    }
   ],
   "source": [
    "print(len(wakati))\n",
    "print(wakati[0])\n",
    "print(label[0])"
   ]
  },
  {
   "cell_type": "code",
   "execution_count": 8,
   "id": "367bce9f",
   "metadata": {},
   "outputs": [
    {
     "name": "stdout",
     "output_type": "stream",
     "text": [
      "1481\n",
      "   0\n",
      "0  '\n",
      "1  ,\n",
      "2   \n",
      "3  이\n",
      "4  다\n"
     ]
    }
   ],
   "source": [
    "import itertools\n",
    "from collections import Counter\n",
    "import pandas as pd\n",
    "\n",
    "word_freq = Counter(itertools.chain(* wakati))\n",
    "\n",
    "dic = []\n",
    "for word_uniq in word_freq.most_common():\n",
    "    dic.append(word_uniq[0])\n",
    "    \n",
    "print(len(dic))\n",
    "print(pd.DataFrame(dic).head())"
   ]
  },
  {
   "cell_type": "code",
   "execution_count": 9,
   "id": "e142ff58",
   "metadata": {},
   "outputs": [
    {
     "name": "stdout",
     "output_type": "stream",
     "text": [
      "1481\n"
     ]
    }
   ],
   "source": [
    "dic_inv = {}\n",
    "for i, word_uniq in enumerate(dic, start=1):\n",
    "    dic_inv.update({word_uniq: i})\n",
    "    \n",
    "print(len(dic_inv))"
   ]
  },
  {
   "cell_type": "code",
   "execution_count": null,
   "id": "1bcfcf71",
   "metadata": {},
   "outputs": [],
   "source": []
  }
 ],
 "metadata": {
  "kernelspec": {
   "display_name": "Python 3 (ipykernel)",
   "language": "python",
   "name": "python3"
  },
  "language_info": {
   "codemirror_mode": {
    "name": "ipython",
    "version": 3
   },
   "file_extension": ".py",
   "mimetype": "text/x-python",
   "name": "python",
   "nbconvert_exporter": "python",
   "pygments_lexer": "ipython3",
   "version": "3.9.13"
  }
 },
 "nbformat": 4,
 "nbformat_minor": 5
}
