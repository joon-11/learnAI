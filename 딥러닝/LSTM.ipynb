{
  "nbformat": 4,
  "nbformat_minor": 0,
  "metadata": {
    "colab": {
      "provenance": [],
      "gpuType": "T4"
    },
    "kernelspec": {
      "name": "python3",
      "display_name": "Python 3"
    },
    "language_info": {
      "name": "python"
    },
    "accelerator": "GPU"
  },
  "cells": [
    {
      "cell_type": "code",
      "execution_count": 2,
      "metadata": {
        "colab": {
          "base_uri": "https://localhost:8080/"
        },
        "id": "aXXTozoT478-",
        "outputId": "a44e06c6-a3e0-4623-d101-49d6002e3105"
      },
      "outputs": [
        {
          "output_type": "stream",
          "name": "stdout",
          "text": [
            "Downloading data from https://storage.googleapis.com/tensorflow/tf-keras-datasets/reuters.npz\n",
            "2110848/2110848 [==============================] - 0s 0us/step\n",
            "(8982,) (8982,)\n",
            "(2246,) (2246,)\n"
          ]
        }
      ],
      "source": [
        "from tensorflow.keras.datasets import reuters\n",
        "\n",
        "num_words = 10000\n",
        "(X_train, y_train), (X_test, y_test) = reuters.load_data(num_words = num_words)\n",
        "\n",
        "print(X_train.shape, y_train.shape)\n",
        "print(X_test.shape, y_test.shape)"
      ]
    },
    {
      "cell_type": "code",
      "source": [
        "from tensorflow.keras.preprocessing.sequence import pad_sequences\n",
        "\n",
        "max_len = 500\n",
        "\n",
        "pad_X_train = pad_sequences(X_train, maxlen=max_len)\n",
        "pad_X_test = pad_sequences(X_test, maxlen=max_len)\n",
        "\n",
        "print(len(pad_X_test[0]))"
      ],
      "metadata": {
        "colab": {
          "base_uri": "https://localhost:8080/"
        },
        "id": "hmFSlPne7RYe",
        "outputId": "9b246c29-6198-4ef0-e143-efa3ba9e9d42"
      },
      "execution_count": 3,
      "outputs": [
        {
          "output_type": "stream",
          "name": "stdout",
          "text": [
            "500\n"
          ]
        }
      ]
    },
    {
      "cell_type": "code",
      "source": [
        "from tensorflow.keras.models import Sequential\n",
        "from tensorflow.keras.layers import LSTM, Dense, Embedding\n",
        "\n",
        "model = Sequential()\n",
        "model.add(Embedding(input_dim = num_words, output_dim = 64))\n",
        "model.add(LSTM(64, return_sequences = True))\n",
        "model.add(LSTM(32))\n",
        "model.add(Dense(46, activation = 'softmax'))\n",
        "\n",
        "model.compile(optimizer = 'adam',\n",
        "              loss = 'sparse_categorical_crossentropy',\n",
        "              metrics = ['acc'])\n"
      ],
      "metadata": {
        "id": "nVwPt2vM7uPE"
      },
      "execution_count": 4,
      "outputs": []
    },
    {
      "cell_type": "code",
      "source": [
        "history = model.fit(pad_X_train, y_train, batch_size = 64, epochs = 5, validation_split = 0.2)"
      ],
      "metadata": {
        "colab": {
          "base_uri": "https://localhost:8080/"
        },
        "id": "WHsOu3od8qSS",
        "outputId": "47f9c374-95ec-44f0-ec59-b6840ec4ede5"
      },
      "execution_count": 5,
      "outputs": [
        {
          "output_type": "stream",
          "name": "stdout",
          "text": [
            "Epoch 1/5\n",
            "113/113 [==============================] - 39s 274ms/step - loss: 2.6564 - acc: 0.3491 - val_loss: 2.4106 - val_acc: 0.3450\n",
            "Epoch 2/5\n",
            "113/113 [==============================] - 25s 224ms/step - loss: 2.4091 - acc: 0.3534 - val_loss: 2.4065 - val_acc: 0.3450\n",
            "Epoch 3/5\n",
            "113/113 [==============================] - 20s 174ms/step - loss: 2.4066 - acc: 0.3534 - val_loss: 2.4114 - val_acc: 0.3450\n",
            "Epoch 4/5\n",
            "113/113 [==============================] - 16s 139ms/step - loss: 2.3741 - acc: 0.3606 - val_loss: 2.1710 - val_acc: 0.4680\n",
            "Epoch 5/5\n",
            "113/113 [==============================] - 16s 138ms/step - loss: 2.0355 - acc: 0.4874 - val_loss: 1.9097 - val_acc: 0.4981\n"
          ]
        }
      ]
    }
  ]
}